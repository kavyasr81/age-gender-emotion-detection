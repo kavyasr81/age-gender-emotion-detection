{
 "cells": [
  {
   "cell_type": "code",
   "execution_count": 1,
   "metadata": {},
   "outputs": [],
   "source": [
    "import cv2\n",
    "import math\n",
    "import argparse\n",
    "from keras.models import model_from_json\n",
    "from keras.preprocessing import image\n",
    "import numpy as np\n"
   ]
  },
  {
   "cell_type": "code",
   "execution_count": 2,
   "metadata": {},
   "outputs": [],
   "source": [
    "faceProto=\"models/opencv_face_detector.pbtxt\"\n",
    "faceModel=\"models/opencv_face_detector_uint8.pb\"\n",
    "genderProto=\"models/gender_deploy.prototxt\" # Describes the Network Configuration\n",
    "genderModel=\"models/gender_net.caffemodel\" # Defines the Internal States of the parameters of the Layers\n",
    "ageNet=cv2.dnn.readNet(\"models/age_net.caffemodel\",\"models/age_deploy.prototxt\")\n",
    "emotionNet = model_from_json(open(\"models/fer.json\", \"r\").read())\n",
    "emotionNet.load_weights('models/model_filter.h5')\n",
    "faceNet=cv2.dnn.readNet(faceModel,faceProto) \n",
    "genderNet=cv2.dnn.readNet(genderModel,genderProto)"
   ]
  },
  {
   "cell_type": "code",
   "execution_count": 3,
   "metadata": {},
   "outputs": [],
   "source": [
    "def detectFaces(net, frame, conf_threshold=0.7):\n",
    "    frame1=frame.copy()\n",
    "    frameHeight=frame1.shape[0]\n",
    "    frameWidth=frame1.shape[1]\n",
    "    blob=cv2.dnn.blobFromImage(frame1, 1.0, (300, 300), [104, 117, 123], True, False) \n",
    "    \n",
    "    # [blobFromImage] creates 4-dimensional blob from image. \n",
    "    # Optionally resizes and crops image from center, subtract mean values, scales values by scalefactor, swap Blue and Red channels.\n",
    "\n",
    "\n",
    "    # set the input to the pre-trained deep learning network and obtain the output predicted probabilities \n",
    "\n",
    "    net.setInput(blob) #Passing the blob through the network \n",
    "    detections=net.forward() #Grabbing the Detections/Predictions\n",
    "    faceBoxes=[]\n",
    "\n",
    "    # Filter out weak detections by ensuring the confidence is greater than the minimum confidence\n",
    "    for i in range(detections.shape[2]):\n",
    "        confidence=detections[0,0,i,2]\n",
    "        if confidence>conf_threshold:\n",
    "            x1=int(detections[0,0,i,3]*frameWidth)\n",
    "            y1=int(detections[0,0,i,4]*frameHeight)\n",
    "            x2=int(detections[0,0,i,5]*frameWidth)\n",
    "            y2=int(detections[0,0,i,6]*frameHeight)\n",
    "\n",
    "            faceBoxes.append([x1,y1,x2,y2]) #Bounding Box Co-ordinates\n",
    "\n",
    "            cv2.rectangle(frame1, (x1,y1), (x2,y2), (0,255,0), int(round(frameHeight/150)), 8)\n",
    "    return frame1,faceBoxes\n",
    "\n",
    "    #cv2.dnn.blobFromImage function returns a blob which is the input image after mean subtraction, normalizing, and channel swapping."
   ]
  },
  {
   "cell_type": "code",
   "execution_count": 4,
   "metadata": {},
   "outputs": [],
   "source": [
    "def detectEmotion(net,frame,faceBoxes):\n",
    "    gray_img= cv2.cvtColor(frame, cv2.COLOR_BGR2GRAY)\n",
    "    for faceBox in faceBoxes:\n",
    "        x=faceBox[0]\n",
    "        y=faceBox[1]\n",
    "        w=np.absolute(faceBox[2]-faceBox[0])\n",
    "        h=np.absolute(faceBox[1]-faceBox[3])\n",
    "        roi_gray=gray_img[y:y+w,x:x+h]#cropping region of interest i.e. face area from  image\n",
    "        roi_gray=cv2.resize(roi_gray,(48,48))\n",
    "        img_pixels = image.img_to_array(roi_gray)\n",
    "        img_pixels = np.expand_dims(img_pixels, axis = 0)\n",
    "        img_pixels=img_pixels.astype(float)\n",
    "        img_pixels /= 255\n",
    "        emotionPreds = emotionNet.predict(img_pixels)\n",
    "        emotions = ('angry', 'disgust', 'fear', 'happy', 'sad', 'surprise', 'neutral')\n",
    "        emotion=emotions[emotionPreds[0].argmax()] #Disp\n",
    "    return emotion"
   ]
  },
  {
   "cell_type": "code",
   "execution_count": 5,
   "metadata": {},
   "outputs": [],
   "source": [
    "MODEL_MEAN_VALUES=(78.4263377603, 87.7689143744, 114.895847746) #Initializing the Mean Values for the Model\n",
    "genderList=['Male','Female']\n",
    "ageList=['(0-2)', '(4-6)', '(8-12)', '(15-20)', '(25-32)', '(38-43)', '(48-53)', '(60-100)']"
   ]
  },
  {
   "cell_type": "code",
   "execution_count": 6,
   "metadata": {},
   "outputs": [],
   "source": [
    "def detectGenderAge(net,aNet,frame, faceBoxes):\n",
    "    for faceBox in faceBoxes:\n",
    "        face=frame[max(0,faceBox[1]-padding):\n",
    "                   min(faceBox[3]+padding,frame.shape[0]-1),max(0,faceBox[0]-padding)\n",
    "                   :min(faceBox[2]+padding, frame.shape[1]-1)]\n",
    "\n",
    "        blob=cv2.dnn.blobFromImage(face, 1.0, (227,227), MODEL_MEAN_VALUES, swapRB=True) \n",
    "\n",
    "        net.setInput(blob) #Passing the blob through the Neural Net\n",
    "        genderPreds=net.forward() #Grabbing the Detections/Predictions\n",
    "        gender=genderList[genderPreds[0].argmax()] #Displaying the Top Prediction\n",
    "        #The function putText renders the specified text string in the image.\n",
    "        aNet.setInput(blob)\n",
    "        agePreds=aNet.forward()\n",
    "        age=ageList[agePreds[0].argmax()]\n",
    "        emotion1=detectEmotion(emotionNet,frame,faceBoxes)\n",
    "        cv2.putText(frame, f'{gender},{age},{emotion1}', (faceBox[0], faceBox[1]-10), cv2.FONT_HERSHEY_SIMPLEX, 0.8, (0,255,255), 2, cv2.LINE_AA)\n",
    "    \n",
    "    return frame"
   ]
  },
  {
   "cell_type": "code",
   "execution_count": 19,
   "metadata": {},
   "outputs": [],
   "source": [
    "img = 'girl2.jpg'"
   ]
  },
  {
   "cell_type": "code",
   "execution_count": 7,
   "metadata": {},
   "outputs": [
    {
     "name": "stdout",
     "output_type": "stream",
     "text": [
      "No faces found....\n"
     ]
    }
   ],
   "source": [
    "cap=cv2.VideoCapture(0)\n",
    "padding=20\n",
    "\n",
    "# while cv2.waitKey(1)<0:\n",
    "while True:\n",
    "    hasFrame,frame=cap.read()\n",
    "    if not hasFrame:\n",
    "        cv2.waitKey()\n",
    "        break\n",
    "\n",
    "    resultImg,faceBoxes=detectFaces(faceNet,frame)\n",
    "    if not faceBoxes:\n",
    "        print('No faces found....')\n",
    "\n",
    "    resultImg1 = detectGenderAge(genderNet,ageNet, resultImg, faceBoxes)\n",
    "    cv2.imshow(\"Gender Detection\", resultImg1) #Display the Image in an OpenCV Window\n",
    "\n",
    "    if cv2.waitKey(1) == ord('q'):\n",
    "    #if key >= 0:\n",
    "        break\n",
    "\n",
    "cap.release()\n",
    "cv2.destroyAllWindows()"
   ]
  },
  {
   "cell_type": "code",
   "execution_count": null,
   "metadata": {},
   "outputs": [],
   "source": []
  }
 ],
 "metadata": {
  "kernelspec": {
   "display_name": "Python 3",
   "language": "python",
   "name": "python3"
  },
  "language_info": {
   "codemirror_mode": {
    "name": "ipython",
    "version": 3
   },
   "file_extension": ".py",
   "mimetype": "text/x-python",
   "name": "python",
   "nbconvert_exporter": "python",
   "pygments_lexer": "ipython3",
   "version": "3.8.3"
  }
 },
 "nbformat": 4,
 "nbformat_minor": 4
}
